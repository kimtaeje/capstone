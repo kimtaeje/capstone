{
 "cells": [
  {
   "cell_type": "code",
   "execution_count": 20,
   "metadata": {},
   "outputs": [],
   "source": [
    "import pandas as pd\n",
    "import numpy as np\n",
    "from sklearn.preprocessing import LabelEncoder\n",
    "import re\n",
    "encoder=LabelEncoder()\n",
    "\n",
    "#불러오기,결측값제거\n",
    "df = pd.read_csv('./list 2.csv',sep=',')\n",
    "df = df.dropna()\n",
    "\n",
    "#기업명\n",
    "df[\"기업명\"] = df[\"기업명\"].apply(lambda x: re.sub('[|0-9기]', '', x))      # ‘| 1기’ 와 같은 기수 제외\n",
    "\n",
    "#관심분야 더미변수화\n",
    "df = df.join(df[\"관심분야\"].str.split('/', expand=True).stack().str.get_dummies().groupby(level=0).sum())\n",
    "\n",
    "#우대역량 더미변수화\n",
    "df[\"우대역량\"] = df[\"우대역량\"].str.replace(\", 기타\", \"\")                                                       #',기타'가 규칙없이 붙어있는경우가 많아서 삭제\n",
    "df['우대역량'] = df['우대역량'].replace('기타', '우대역량_기타')                                                 #'기타'열이 관심분야에도 중복됨으로 교체 \n",
    "df = df.join(df[\"우대역량\"].str.split(', ', expand=True).stack().str.get_dummies().groupby(level=0).sum())\n",
    "\n",
    "#모집인원\n",
    "df[\"모집 인원\"]=df[\"모집인원\"].str.extract(r'(\\d+)')    #숫자만 남기기\n",
    "df=df.replace({\"모집 인원\":'000'},'999')                #000은 세자리수를 의미함으로 999명으로 변경\n",
    "df=df.replace({\"모집 인원\":'00'},'99')                  #00은 두자리수를 의미함으로 99명으로 변경\n",
    "df=df.replace({\"모집 인원\":'0'},'9')                    #0은 힌자리수를 의미함으로 9명으로 변경\n",
    "df=df.replace({\"모집 인원\":np.NaN},0)                   #NaN(미정)값 0으로 변경\n",
    "df=df.astype({\"모집 인원\":'int'})                   \n",
    "student_bins=[0,1,21,100,50000]                        #범주화  0:인원미정/1-20(명):소/20-99(명):중/99-50000(명):대\n",
    "student_scale=[\"인원미정\",\"소\",\"중\",\"대\"]               \n",
    "df = pd.concat([df, pd.cut(df[\"모집 인원\"], bins=student_bins, right=False, labels=student_scale).rename(\"모집인원규모\")], axis=1) #분포범주화\n",
    "\n",
    "#열삭제\n",
    "df=df.drop([\"대외활동명\",\"접수기간\",\"활동지역\",\"활동기간\"],axis='columns')\n",
    "\n",
    "#데이터저장\n",
    "df=df.to_csv(\"test10.csv\")\n"
   ]
  },
  {
   "cell_type": "code",
   "execution_count": 9,
   "metadata": {},
   "outputs": [
    {
     "name": "stdout",
     "output_type": "stream",
     "text": [
      "모집인원 기초통계량 count     362.00000\n",
      "mean       44.21547\n",
      "std        67.06414\n",
      "min         1.00000\n",
      "25%         9.00000\n",
      "50%        20.00000\n",
      "75%        99.00000\n",
      "max      1000.00000\n",
      "Name: 모집 인원, dtype: float64\n"
     ]
    }
   ],
   "source": [
    "print(\"모집인원 기초통계량\",df[\"모집 인원\"].describe())\n"
   ]
  }
 ],
 "metadata": {
  "kernelspec": {
   "display_name": "base",
   "language": "python",
   "name": "python3"
  },
  "language_info": {
   "codemirror_mode": {
    "name": "ipython",
    "version": 3
   },
   "file_extension": ".py",
   "mimetype": "text/x-python",
   "name": "python",
   "nbconvert_exporter": "python",
   "pygments_lexer": "ipython3",
   "version": "3.9.12"
  },
  "orig_nbformat": 4,
  "vscode": {
   "interpreter": {
    "hash": "59d8350d632c1aaf68822a9dfae7bdf205c349302614c6bf83548cab09e4a4c4"
   }
  }
 },
 "nbformat": 4,
 "nbformat_minor": 2
}
